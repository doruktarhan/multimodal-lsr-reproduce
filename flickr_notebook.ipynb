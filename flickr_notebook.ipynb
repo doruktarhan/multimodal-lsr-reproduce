{
 "cells": [
  {
   "cell_type": "code",
   "execution_count": 1,
   "metadata": {},
   "outputs": [],
   "source": [
    "from datasets import load_dataset\n",
    "from huggingface_hub import hf_hub_download\n",
    "import json\n",
    "\n",
    "dense_embs = load_dataset(\"lsr42/flickr30k-blip-dense\", data_files={\"img_emb\": \"img_embs.parquet\", \"text_emb\": \"text_embs.parquet\"}, keep_in_memory=True).with_format(\"numpy\")\n",
    "meta_data = json.load(open(hf_hub_download(\n",
    "    repo_id=\"lsr42/flickr30k-blip-dense\", repo_type=\"dataset\", filename=\"dataset_meta.json\")))"
   ]
  },
  {
   "cell_type": "code",
   "execution_count": 4,
   "metadata": {},
   "outputs": [
    {
     "data": {
      "text/plain": [
       "((31014, 256),\n",
       " (155070, 256),\n",
       " dict_keys(['sentids', 'imgid', 'sentences', 'split', 'filename']))"
      ]
     },
     "execution_count": 4,
     "metadata": {},
     "output_type": "execute_result"
    }
   ],
   "source": [
    "dense_embs['img_emb']['emb'].shape, dense_embs['text_emb']['emb'].shape, meta_data['images'][0].keys()"
   ]
  },
  {
   "cell_type": "code",
   "execution_count": 5,
   "metadata": {},
   "outputs": [
    {
     "data": {
      "text/plain": [
       "{'sentids': [0, 1, 2, 3, 4],\n",
       " 'imgid': 0,\n",
       " 'sentences': [{'tokens': ['two',\n",
       "    'young',\n",
       "    'guys',\n",
       "    'with',\n",
       "    'shaggy',\n",
       "    'hair',\n",
       "    'look',\n",
       "    'at',\n",
       "    'their',\n",
       "    'hands',\n",
       "    'while',\n",
       "    'hanging',\n",
       "    'out',\n",
       "    'in',\n",
       "    'the',\n",
       "    'yard'],\n",
       "   'raw': 'Two young guys with shaggy hair look at their hands while hanging out in the yard.',\n",
       "   'imgid': 0,\n",
       "   'sentid': 0},\n",
       "  {'tokens': ['two',\n",
       "    'young',\n",
       "    'white',\n",
       "    'males',\n",
       "    'are',\n",
       "    'outside',\n",
       "    'near',\n",
       "    'many',\n",
       "    'bushes'],\n",
       "   'raw': 'Two young, White males are outside near many bushes.',\n",
       "   'imgid': 0,\n",
       "   'sentid': 1},\n",
       "  {'tokens': ['two',\n",
       "    'men',\n",
       "    'in',\n",
       "    'green',\n",
       "    'shirts',\n",
       "    'are',\n",
       "    'standing',\n",
       "    'in',\n",
       "    'a',\n",
       "    'yard'],\n",
       "   'raw': 'Two men in green shirts are standing in a yard.',\n",
       "   'imgid': 0,\n",
       "   'sentid': 2},\n",
       "  {'tokens': ['a',\n",
       "    'man',\n",
       "    'in',\n",
       "    'a',\n",
       "    'blue',\n",
       "    'shirt',\n",
       "    'standing',\n",
       "    'in',\n",
       "    'a',\n",
       "    'garden'],\n",
       "   'raw': 'A man in a blue shirt standing in a garden.',\n",
       "   'imgid': 0,\n",
       "   'sentid': 3},\n",
       "  {'tokens': ['two', 'friends', 'enjoy', 'time', 'spent', 'together'],\n",
       "   'raw': 'Two friends enjoy time spent together.',\n",
       "   'imgid': 0,\n",
       "   'sentid': 4}],\n",
       " 'split': 'train',\n",
       " 'filename': '1000092795.jpg'}"
      ]
     },
     "execution_count": 5,
     "metadata": {},
     "output_type": "execute_result"
    }
   ],
   "source": [
    "meta_data['images'][0]"
   ]
  },
  {
   "cell_type": "code",
   "execution_count": 7,
   "metadata": {},
   "outputs": [
    {
     "name": "stdout",
     "output_type": "stream",
     "text": [
      "Number of images in metadata: 31014\n",
      "Number of images in folder: 31783\n"
     ]
    }
   ],
   "source": [
    "import os\n",
    "import json\n",
    "\n",
    "# Paths\n",
    "PATH_TO_FLICKR_FOLDER = '/Users/doruktarhan/Desktop/Flickr30k/flickr30k-images'\n",
    "FLICKR_METADATA_PATH = 'data/dataset_flickr30k.json'  # Update this if your metadata path differs\n",
    "\n",
    "# Count images in metadata\n",
    "try:\n",
    "    with open(FLICKR_METADATA_PATH, 'r') as f:\n",
    "        metadata = json.load(f)\n",
    "        metadata_image_count = len(metadata['images'])\n",
    "        print(f\"Number of images in metadata: {metadata_image_count}\")\n",
    "except FileNotFoundError:\n",
    "    print(f\"Metadata file not found at {FLICKR_METADATA_PATH}\")\n",
    "except Exception as e:\n",
    "    print(f\"Error reading metadata: {e}\")\n",
    "\n",
    "# Count images in the folder\n",
    "try:\n",
    "    folder_image_count = len([file for file in os.listdir(PATH_TO_FLICKR_FOLDER) if file.endswith(('jpg', 'jpeg', 'png'))])\n",
    "    print(f\"Number of images in folder: {folder_image_count}\")\n",
    "except FileNotFoundError:\n",
    "    print(f\"Image folder not found at {PATH_TO_FLICKR_FOLDER}\")\n",
    "except Exception as e:\n",
    "    print(f\"Error accessing image folder: {e}\")\n"
   ]
  },
  {
   "cell_type": "code",
   "execution_count": null,
   "metadata": {},
   "outputs": [],
   "source": []
  }
 ],
 "metadata": {
  "kernelspec": {
   "display_name": "lsr",
   "language": "python",
   "name": "python3"
  },
  "language_info": {
   "codemirror_mode": {
    "name": "ipython",
    "version": 3
   },
   "file_extension": ".py",
   "mimetype": "text/x-python",
   "name": "python",
   "nbconvert_exporter": "python",
   "pygments_lexer": "ipython3",
   "version": "3.9.20"
  }
 },
 "nbformat": 4,
 "nbformat_minor": 2
}
